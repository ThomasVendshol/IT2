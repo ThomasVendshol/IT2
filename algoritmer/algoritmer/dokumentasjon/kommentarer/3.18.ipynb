{
 "cells": [
  {
   "cell_type": "code",
   "execution_count": 1,
   "metadata": {},
   "outputs": [
    {
     "name": "stdout",
     "output_type": "stream",
     "text": [
      "2\n"
     ]
    },
    {
     "ename": "KeyError",
     "evalue": "'spansk'",
     "output_type": "error",
     "traceback": [
      "\u001b[1;31m---------------------------------------------------------------------------\u001b[0m",
      "\u001b[1;31mKeyError\u001b[0m                                  Traceback (most recent call last)",
      "Cell \u001b[1;32mIn[1], line 24\u001b[0m\n\u001b[0;32m     21\u001b[0m     antall[s[\u001b[38;5;124m'\u001b[39m\u001b[38;5;124mnasjonalitet\u001b[39m\u001b[38;5;124m'\u001b[39m]] \u001b[38;5;241m+\u001b[39m\u001b[38;5;241m=\u001b[39m \u001b[38;5;241m1\u001b[39m\n\u001b[0;32m     23\u001b[0m \u001b[38;5;28mprint\u001b[39m(antall[\u001b[38;5;124m\"\u001b[39m\u001b[38;5;124mbritisk\u001b[39m\u001b[38;5;124m\"\u001b[39m])\n\u001b[1;32m---> 24\u001b[0m \u001b[38;5;28mprint\u001b[39m(\u001b[43mantall\u001b[49m\u001b[43m[\u001b[49m\u001b[38;5;124;43m\"\u001b[39;49m\u001b[38;5;124;43mspansk\u001b[39;49m\u001b[38;5;124;43m\"\u001b[39;49m\u001b[43m]\u001b[49m)\n\u001b[0;32m     26\u001b[0m \u001b[38;5;66;03m## ------\u001b[39;00m\n\u001b[0;32m     27\u001b[0m \u001b[38;5;66;03m# 4. Fjern alle kommentarer og endre koden slik at den blir enklere å forstå\u001b[39;00m\n\u001b[0;32m     28\u001b[0m \u001b[38;5;66;03m# 5. Se over koden, og legg på eventuelle kommentarer\u001b[39;00m\n\u001b[0;32m     29\u001b[0m  \n\u001b[0;32m     30\u001b[0m \u001b[38;5;66;03m# TODO Lim inn koden på nytt under her, og endre koden:\u001b[39;00m\n",
      "\u001b[1;31mKeyError\u001b[0m: 'spansk'"
     ]
    }
   ],
   "source": [
    "# 2. Hva gjør koden?\n",
    "# Koden teller britiske og spanske kjørere.\n",
    " \n",
    "# 3. Legg på kommentarer slik at koden blir forståelig for andre\n",
    "f1 = [\n",
    "    {\"navn\": \"Max Verstappen\", \"nasjonalitet\": \"nederlandsk\", \"team\": \"Red Bull Racing\", \"bilnummer\": 1},\n",
    "    {\"navn\": \"Sergio Perez\", \"nasjonalitet\": \"meksikansk\", \"team\": \"Red Bull Racing\", \"bilnummer\": 11},\n",
    "    {\"navn\": \"Lewis Hamilton\", \"nasjonalitet\": \"britisk\", \"team\": \"Mercedes\", \"bilnummer\": 44},\n",
    "    {\"navn\": \"George Russell\", \"nasjonalitet\": \"britisk\", \"team\": \"Mercedes\", \"bilnummer\": 63},\n",
    "    {\"navn\": \"Charles Leclerc\", \"nasjonalitet\": \"monegaskisk\", \"team\": \"Ferrari\", \"bilnummer\": 16},\n",
    "    {\"navn\": \"Kevin Magnussen\", \"nasjonalitet\": \"dansk\", \"team\": \"Haas F1 Team\", \"bilnummer\": 20},\n",
    "    {\"navn\": \"Nico Hulkenberg\", \"nasjonalitet\": \"tysk\", \"team\": \"Haas F1 Team\", \"bilnummer\": 27}\n",
    "]\n",
    " \n",
    "antall = {}\n",
    " \n",
    "for s in f1:         \n",
    "  if s['nasjonalitet'] not in antall:\n",
    "    antall[s['nasjonalitet']] = 1\n",
    "  else:\n",
    "    antall[s['nasjonalitet']] += 1\n",
    " \n",
    "print(antall[\"britisk\"])\n",
    " \n",
    "## ------\n",
    "# 4. Fjern alle kommentarer og endre koden slik at den blir enklere å forstå\n",
    "# 5. Se over koden, og legg på eventuelle kommentarer\n",
    " \n",
    "# TODO Lim inn koden på nytt under her, og endre koden:\n",
    " "
   ]
  },
  {
   "cell_type": "code",
   "execution_count": null,
   "metadata": {},
   "outputs": [],
   "source": [
    "## Type hinting og docstrings\n",
    "\n",
    "# Type hinting og docstrings er spesielle kommentarer som brukes for å dokumentere kode.\n",
    "# Dokumentasjon av kode lages for å hjelpe utviklere å bruke koden.\n",
    "# For eksempel dokumentasjonen som er laget for å forklare random.randint-funksjonen er\n",
    "# laget for å forklare utvillere hvordan funksjonen skal brukes.\n",
    "\n",
    "# \"Vanlige\" kommentarer er laget for de som skal endre/forbedre kode, mens dokumentasjon lages\n",
    "# for programmere som skal bruke kode."
   ]
  },
  {
   "cell_type": "code",
   "execution_count": 3,
   "metadata": {},
   "outputs": [
    {
     "data": {
      "text/plain": [
       "25.0"
      ]
     },
     "execution_count": 3,
     "metadata": {},
     "output_type": "execute_result"
    }
   ],
   "source": [
    "# Type hinting\n",
    "\n",
    "# type hinting skrives etter parametere i funksjoner for å dokumentere hva slags datatyper\n",
    "# parameterene skal være. I eksemepelet under er \"float\" type hinting\n",
    "\n",
    "def areal_trekant(grunnlinje: float, høyde: float) -> float:\n",
    "    return grunnlinje * høyde / 2\n",
    "\n",
    "areal_trekant(10, 5)\n",
    "areal_trekant(10, 5)"
   ]
  },
  {
   "cell_type": "code",
   "execution_count": null,
   "metadata": {},
   "outputs": [],
   "source": [
    "# Docstring\n",
    "\n",
    "# Docstrings er dokumentasjon som vises når vi bruker en funksjon eller klasse i VS Code, \n",
    "# de skrives mellom tre anførselstegn.\n",
    "# Det er vanlig å beskrive hva funksjonen gjør og hva parameterene er.\n",
    "\n",
    "def areal_trekant(grunnlinje: float, høyde: float) -> float:\n",
    "    \"\"\"\n",
    "    En funksjon som regner ut areal av trekanter\n",
    "\n",
    "    parametre\n",
    "        grunnlinje (float): grunnlinjen i trekanten\n",
    "        høyde (float): høyden i trekanten\n",
    "    \"\"\"\n",
    "    return grunnlinje * høyde / 2\n",
    "\n",
    "areal_trekant(10, 5)\n",
    "areal_trekant"
   ]
  }
 ],
 "metadata": {
  "kernelspec": {
   "display_name": "Python 3",
   "language": "python",
   "name": "python3"
  },
  "language_info": {
   "codemirror_mode": {
    "name": "ipython",
    "version": 3
   },
   "file_extension": ".py",
   "mimetype": "text/x-python",
   "name": "python",
   "nbconvert_exporter": "python",
   "pygments_lexer": "ipython3",
   "version": "3.11.1"
  }
 },
 "nbformat": 4,
 "nbformat_minor": 2
}
