{
 "cells": [
  {
   "cell_type": "code",
   "execution_count": 3,
   "metadata": {},
   "outputs": [
    {
     "name": "stdout",
     "output_type": "stream",
     "text": [
      "1\n",
      "2\n",
      "3\n",
      "4\n",
      "5\n",
      "6\n",
      "7\n",
      "8\n",
      "9\n",
      "10\n",
      "J\n",
      "a\n",
      ",\n",
      " \n",
      "v\n",
      "i\n",
      " \n",
      "e\n",
      "l\n",
      "s\n",
      "k\n",
      "e\n",
      "r\n",
      "2\n",
      "0\n",
      "1\n",
      "2\n",
      "3\n",
      "4\n",
      "5\n",
      "6\n",
      "7\n"
     ]
    }
   ],
   "source": [
    "# For-løkker\n",
    "# Brukes for å gå gjennom en sekvens, en samling med \"ting\" F.eks en liste med tall eller en ordbok med nøkler\n",
    "for tall in [1,2,3,4,5,6,7,8,9,10]:\n",
    "    print(tall)\n",
    "\n",
    "for bokstav in \"Ja, vi elsker\":\n",
    "    print(bokstav)\n",
    "\n",
    "antall_mellomrom = 0\n",
    "for bokstav in \"Ja, vi elsker\":\n",
    "    if bokstav == \" \":\n",
    "        antall_mellomrom += 1\n",
    "print(antall_mellomrom)\n",
    "\n",
    "for tall in range(8):\n",
    "    print(tall)\n",
    "\n",
    "for tall in range(100, 1, -2):\n",
    "    print(tall)"
   ]
  }
 ],
 "metadata": {
  "kernelspec": {
   "display_name": "Python 3",
   "language": "python",
   "name": "python3"
  },
  "language_info": {
   "codemirror_mode": {
    "name": "ipython",
    "version": 3
   },
   "file_extension": ".py",
   "mimetype": "text/x-python",
   "name": "python",
   "nbconvert_exporter": "python",
   "pygments_lexer": "ipython3",
   "version": "3.11.1"
  }
 },
 "nbformat": 4,
 "nbformat_minor": 2
}
