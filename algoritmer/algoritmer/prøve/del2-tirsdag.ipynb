{
 "cells": [
  {
   "cell_type": "markdown",
   "metadata": {},
   "source": [
    "## Oppgave 3\n",
    "\n",
    "Listen `biler` inneholder informasjon om de 10 mest solgte bilene i Norge i 2023.\n",
    "\n",
    "> OBS! Kjør kodeblokken under før du begynner å programmere!\n",
    "\n",
    "1. Bruk listen og lag en fin utskrift med informasjon om Tesla Model Y\n",
    "2. Bruk listen og lag en fin utskrift med informasjon om alle bilene på topplisten\n",
    "3. Av bilene som er på topplisten hvor mange solgte biler er av merke Toyota?\n",
    "4. Lag en ordbok som teller antall solgte biler for hvert bilmerke på topplisten\n",
    "5. Tegn et stolpediagram som viser antall solgte biler på topplisten gruppert etter bilmerke"
   ]
  },
  {
   "cell_type": "code",
   "execution_count": 1,
   "metadata": {},
   "outputs": [],
   "source": [
    "biler =  [\n",
    "    {\"bilmerke\": \"Tesla\", \"modell\": \"Model Y\", \"land\": \"USA\", \"antall_solgte\": 23088, \"andel_solgte\": 18.2},\n",
    "    {\"bilmerke\": \"Volkswagen\", \"modell\": \"ID.4\", \"land\": \"Tyskland\", \"antall_solgte\": 6614, \"andel_solgte\": 5.2},\n",
    "    {\"bilmerke\": \"Skoda\", \"modell\": \"Enyaq\", \"land\": \"Tsjekkia\", \"antall_solgte\": 5740, \"andel_solgte\": 4.5},\n",
    "    {\"bilmerke\": \"Toyota\", \"modell\": \"bZ4X\", \"land\": \"Japan\", \"antall_solgte\": 5395, \"andel_solgte\": 4.2},\n",
    "    {\"bilmerke\": \"Volvo\", \"modell\": \"XC40\", \"land\": \"Sverige\", \"antall_solgte\": 5025, \"andel_solgte\": 4.0},\n",
    "    {\"bilmerke\": \"Ford\", \"modell\": \"Mustang Mach-E\", \"land\": \"USA\", \"antall_solgte\": 3792, \"andel_solgte\": 3.0},\n",
    "    {\"bilmerke\": \"Toyota\", \"modell\": \"Yaris\", \"land\": \"Japan\", \"antall_solgte\": 3582, \"andel_solgte\": 2.8},\n",
    "    {\"bilmerke\": \"Toyota\", \"modell\": \"RAV4\", \"land\": \"Japan\", \"antall_solgte\": 3457, \"andel_solgte\": 2.7},\n",
    "    {\"bilmerke\": \"Volkswagen\", \"modell\": \"ID.3\", \"land\": \"Tyskland\", \"antall_solgte\": 3141, \"andel_solgte\": 2.5}\n",
    "]\n",
    "# Kjør denne kodeblokken før du begynner! (shift + enter) / (Trykk på play)"
   ]
  },
  {
   "cell_type": "code",
   "execution_count": 76,
   "metadata": {},
   "outputs": [
    {
     "name": "stdout",
     "output_type": "stream",
     "text": [
      "Model Y er en bilmodell produsert av Tesla, laget i USA, og har solgt 23088 biler\n"
     ]
    }
   ],
   "source": [
    "# 1. Bruk ordboken og lag en fin utskrift med informasjon om Tesla Model Y\n",
    "bilmerke = biler[0]\n",
    "print(f\"{bilmerke['modell']} er en bilmodell produsert av Tesla, laget i {bilmerke['land']}, og har solgt {bilmerke['antall_solgte']} biler\")"
   ]
  },
  {
   "cell_type": "code",
   "execution_count": 28,
   "metadata": {},
   "outputs": [
    {
     "name": "stdout",
     "output_type": "stream",
     "text": [
      "Land bilen er produsert i: USA. Navn på modellen Model Y. Antall solgte: 23088\n",
      "Land bilen er produsert i: Tyskland. Navn på modellen ID.4. Antall solgte: 6614\n",
      "Land bilen er produsert i: Tsjekkia. Navn på modellen Enyaq. Antall solgte: 5740\n",
      "Land bilen er produsert i: Japan. Navn på modellen bZ4X. Antall solgte: 5395\n",
      "Land bilen er produsert i: Sverige. Navn på modellen XC40. Antall solgte: 5025\n",
      "Land bilen er produsert i: USA. Navn på modellen Mustang Mach-E. Antall solgte: 3792\n",
      "Land bilen er produsert i: Japan. Navn på modellen Yaris. Antall solgte: 3582\n",
      "Land bilen er produsert i: Japan. Navn på modellen RAV4. Antall solgte: 3457\n",
      "Land bilen er produsert i: Tyskland. Navn på modellen ID.3. Antall solgte: 3141\n"
     ]
    }
   ],
   "source": [
    "# 2. Bruk listen og lag en fin utskrift med informasjon om alle bilene på topplisten\n",
    "for bil in biler:\n",
    "    navn = bil['land']\n",
    "    modell = bil['modell']\n",
    "    antall_solgte = bil['antall_solgte']\n",
    "    print(f\"Land bilen er produsert i: {navn}. Navn på modellen: {modell}. Antall solgte: {antall_solgte}\")"
   ]
  },
  {
   "cell_type": "code",
   "execution_count": 81,
   "metadata": {},
   "outputs": [
    {
     "name": "stdout",
     "output_type": "stream",
     "text": [
      "Av alle bilene som er på topplisten har Toyota solgt 12434 biler\n"
     ]
    }
   ],
   "source": [
    "# 3. Av bilene som er på topplisten hvor mange solgte biler var av merke Toyota?\n",
    "Toyota = 5395 + 3582 + 3457\n",
    "print(\"Av alle bilene som er på topplisten har Toyota solgt\", Toyota, \"biler\")"
   ]
  },
  {
   "cell_type": "code",
   "execution_count": 65,
   "metadata": {},
   "outputs": [
    {
     "name": "stdout",
     "output_type": "stream",
     "text": [
      "{}\n"
     ]
    }
   ],
   "source": [
    "# 4. Lag en ordbok som teller antall solgte biler for hvert bilmerke på topplisten\n",
    "\n",
    "listeantall = {}                      # en tom ordbok som skal fylles med nasjonaliteter\n",
    " \n",
    "for bil in biler:                      # for hver sjåfør i lista:\n",
    "  antall_solgte = bil['antall_solgte']           # hent ut nasjonaliteten til sjårføren\n",
    "  if antall_solgte not in listeantall:   # hvis nasjonaliteten ikke er en nøkkel i ordboken:\n",
    "    listeantall[antall_solgte] = 1         # legg til nasjonaliteten i ordboken med verdien 1\n",
    "  else:                                           # nasjonaliteten finnes allerede i ordboken:\n",
    "    listeantall[antall_solgte] += 1        # øk verdien til nasjonaliteten med 1\n",
    " \n",
    "print(listeantall)      "
   ]
  },
  {
   "cell_type": "code",
   "execution_count": 5,
   "metadata": {},
   "outputs": [],
   "source": [
    "# 5. Tegn et stolpediagram som viser antall solgte biler på topplisten gruppert etter bilmerke\n"
   ]
  },
  {
   "cell_type": "markdown",
   "metadata": {},
   "source": [
    "## Oppgave 4\n",
    "\n",
    "1. Åpne filen oscar2024.json med python, og print ordboken til \"Actor in a Leading Role\" (den første prisen)\n",
    "2. Print alle de nominerte filmene\n",
    "3. Hvor mange nominasjoner har filmen \"Barbie\"\n",
    "4. Hvilken film har flest nominasjoner, hvor mange har den?\n",
    "5. Lag en oversikt som presenterer de ti filmene med flest nominasjoner og antall nominasjoner"
   ]
  },
  {
   "cell_type": "code",
   "execution_count": 86,
   "metadata": {},
   "outputs": [
    {
     "name": "stdout",
     "output_type": "stream",
     "text": [
      "{'name': 'Actor in a Leading Role', 'nominations': [{'name': 'Bradley Cooper', 'movie': 'Maestro'}, {'name': 'Colman Domingo', 'movie': 'Rustin'}, {'name': 'Paul Giamatti', 'movie': 'The Holdovers'}, {'name': 'Cillian Murphy', 'movie': 'Oppenheimer'}, {'name': 'Jeffrey Wright', 'movie': 'American Fiction'}]}\n"
     ]
    }
   ],
   "source": [
    "# 1. Åpne filen oscar2024.json med python og print ordboken til \"Actor in a Leading Role\"\n",
    "import json\n",
    "\n",
    "with open('oscar2024.json', 'r', encoding=\"utf-8\") as file:\n",
    "    data = json.load(file)\n",
    "print(data[0])"
   ]
  },
  {
   "cell_type": "code",
   "execution_count": 122,
   "metadata": {},
   "outputs": [],
   "source": [
    "# 2. Print alle filmene de nominerte filmene\n",
    "# >  Filmer som er nominert til flere priser kan printes flere ganger\n",
    "for nominations in data:\n",
    "    if [\"movie\"] in [nominations]:\n",
    "        print(\"movie\")\n",
    "    else:\n",
    "        False\n"
   ]
  },
  {
   "cell_type": "code",
   "execution_count": 103,
   "metadata": {},
   "outputs": [
    {
     "ename": "KeyError",
     "evalue": "'movie'",
     "output_type": "error",
     "traceback": [
      "\u001b[1;31m---------------------------------------------------------------------------\u001b[0m",
      "\u001b[1;31mKeyError\u001b[0m                                  Traceback (most recent call last)",
      "Cell \u001b[1;32mIn[103], line 4\u001b[0m\n\u001b[0;32m      2\u001b[0m total \u001b[38;5;241m=\u001b[39m \u001b[38;5;241m0\u001b[39m\n\u001b[0;32m      3\u001b[0m \u001b[38;5;28;01mfor\u001b[39;00m nominations \u001b[38;5;129;01min\u001b[39;00m data:\n\u001b[1;32m----> 4\u001b[0m     \u001b[38;5;28;01mif\u001b[39;00m \u001b[43mnominations\u001b[49m\u001b[43m[\u001b[49m\u001b[38;5;124;43m\"\u001b[39;49m\u001b[38;5;124;43mmovie\u001b[39;49m\u001b[38;5;124;43m\"\u001b[39;49m\u001b[43m]\u001b[49m \u001b[38;5;241m==\u001b[39m \u001b[38;5;124m\"\u001b[39m\u001b[38;5;124mBarbie\u001b[39m\u001b[38;5;124m\"\u001b[39m:\n\u001b[0;32m      5\u001b[0m         total \u001b[38;5;241m+\u001b[39m\u001b[38;5;241m=\u001b[39m nominations[\u001b[38;5;124m\"\u001b[39m\u001b[38;5;124mnominations\u001b[39m\u001b[38;5;124m\"\u001b[39m]\n\u001b[0;32m      6\u001b[0m \u001b[38;5;28mprint\u001b[39m(\u001b[38;5;124mf\u001b[39m\u001b[38;5;124m\"\u001b[39m\u001b[38;5;124mBarbie har totalt \u001b[39m\u001b[38;5;132;01m{\u001b[39;00mtotal\u001b[38;5;132;01m}\u001b[39;00m\u001b[38;5;124m antall nominasjoner\u001b[39m\u001b[38;5;124m\"\u001b[39m)\n",
      "\u001b[1;31mKeyError\u001b[0m: 'movie'"
     ]
    }
   ],
   "source": [
    "# 3. Hvor mange nominasjoner har filmen \"Barbie\"\n",
    "total = 0\n",
    "for nominations in data:\n",
    "    if nominations[\"movie\"] == \"Barbie\":\n",
    "        total += nominations[\"nominations\"]\n",
    "print(f\"Barbie har totalt {total} antall nominasjoner\")"
   ]
  },
  {
   "cell_type": "code",
   "execution_count": 120,
   "metadata": {},
   "outputs": [
    {
     "ename": "TypeError",
     "evalue": "unhashable type: 'dict'",
     "output_type": "error",
     "traceback": [
      "\u001b[1;31m---------------------------------------------------------------------------\u001b[0m",
      "\u001b[1;31mTypeError\u001b[0m                                 Traceback (most recent call last)",
      "Cell \u001b[1;32mIn[120], line 8\u001b[0m\n\u001b[0;32m      6\u001b[0m         movie_antall[nominations] \u001b[38;5;241m+\u001b[39m\u001b[38;5;241m=\u001b[39m \u001b[38;5;241m1\u001b[39m\n\u001b[0;32m      7\u001b[0m     \u001b[38;5;28;01melse\u001b[39;00m:\n\u001b[1;32m----> 8\u001b[0m         \u001b[43mmovie_antall\u001b[49m\u001b[43m[\u001b[49m\u001b[43mnominations\u001b[49m\u001b[43m]\u001b[49m \u001b[38;5;241m=\u001b[39m \u001b[38;5;241m1\u001b[39m\n\u001b[0;32m     10\u001b[0m max_nominasjoner_film \u001b[38;5;241m=\u001b[39m \u001b[38;5;28mmax\u001b[39m(movie_antall, key\u001b[38;5;241m=\u001b[39mmovie_antall\u001b[38;5;241m.\u001b[39mget)\n\u001b[0;32m     11\u001b[0m antall_nominations_max_movie \u001b[38;5;241m=\u001b[39m movie_antall[max_nominasjoner_film]\n",
      "\u001b[1;31mTypeError\u001b[0m: unhashable type: 'dict'"
     ]
    }
   ],
   "source": [
    "# 4. Hvilken film har flest nominasjoner, hvor mange har den?\n",
    "movie_antall = {}\n",
    "for movie in nominations:\n",
    "    movie = nominations[movie]\n",
    "    if movie in nominations:\n",
    "        movie_antall[nominations] += 1\n",
    "    else:\n",
    "        movie_antall[nominations] = 1\n",
    "\n",
    "max_nominasjoner_movie = max(movie_antall, key=movie_antall.get)\n",
    "antall_nominations_max_movie = movie_antall[max_nominasjoner_movie]\n",
    "print(f\"\\nFilmen med flest nominasjoner er {max_nominasjoner_movie}.\")"
   ]
  },
  {
   "cell_type": "code",
   "execution_count": 9,
   "metadata": {},
   "outputs": [],
   "source": [
    "# 5. Lag en utskrift som viser de ti filmene med flest nominasjoner og antall nominasjoner\n"
   ]
  }
 ],
 "metadata": {
  "kernelspec": {
   "display_name": "Python 3",
   "language": "python",
   "name": "python3"
  },
  "language_info": {
   "codemirror_mode": {
    "name": "ipython",
    "version": 3
   },
   "file_extension": ".py",
   "mimetype": "text/x-python",
   "name": "python",
   "nbconvert_exporter": "python",
   "pygments_lexer": "ipython3",
   "version": "3.11.1"
  }
 },
 "nbformat": 4,
 "nbformat_minor": 2
}
